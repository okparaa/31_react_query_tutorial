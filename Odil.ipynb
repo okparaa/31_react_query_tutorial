{
  "nbformat": 4,
  "nbformat_minor": 0,
  "metadata": {
    "colab": {
      "provenance": [],
      "gpuType": "T4",
      "include_colab_link": true
    },
    "kernelspec": {
      "name": "python3",
      "display_name": "Python 3"
    },
    "language_info": {
      "name": "python"
    },
    "accelerator": "GPU"
  },
  "cells": [
    {
      "cell_type": "markdown",
      "metadata": {
        "id": "view-in-github",
        "colab_type": "text"
      },
      "source": [
        "<a href=\"https://colab.research.google.com/github/okparaa/31_react_query_tutorial/blob/main/Odil.ipynb\" target=\"_parent\"><img src=\"https://colab.research.google.com/assets/colab-badge.svg\" alt=\"Open In Colab\"/></a>"
      ]
    },
    {
      "cell_type": "code",
      "source": [
        "!git clone https://github.com/cselab/odil.git"
      ],
      "metadata": {
        "colab": {
          "base_uri": "https://localhost:8080/"
        },
        "id": "8VmExhy7pHTx",
        "outputId": "01a565ae-bf47-4fe8-a6e4-f606457d667d"
      },
      "execution_count": 1,
      "outputs": [
        {
          "output_type": "stream",
          "name": "stdout",
          "text": [
            "Cloning into 'odil'...\n",
            "remote: Enumerating objects: 1278, done.\u001b[K\n",
            "remote: Counting objects: 100% (309/309), done.\u001b[K\n",
            "remote: Compressing objects: 100% (193/193), done.\u001b[K\n",
            "remote: Total 1278 (delta 151), reused 247 (delta 111), pack-reused 969 (from 1)\u001b[K\n",
            "Receiving objects: 100% (1278/1278), 29.67 MiB | 20.04 MiB/s, done.\n",
            "Resolving deltas: 100% (545/545), done.\n"
          ]
        }
      ]
    },
    {
      "cell_type": "code",
      "execution_count": 2,
      "metadata": {
        "colab": {
          "base_uri": "https://localhost:8080/"
        },
        "id": "2KxOnLgUnvFg",
        "outputId": "fb7c3dc0-f9c8-41cf-a2f1-ea526c340fc8"
      },
      "outputs": [
        {
          "output_type": "stream",
          "name": "stdout",
          "text": [
            "Collecting odil\n",
            "  Downloading odil-0.1.8-py2.py3-none-any.whl.metadata (4.0 kB)\n",
            "Requirement already satisfied: numpy in /usr/local/lib/python3.10/dist-packages (from odil) (1.26.4)\n",
            "Requirement already satisfied: psutil in /usr/local/lib/python3.10/dist-packages (from odil) (5.9.5)\n",
            "Requirement already satisfied: scipy in /usr/local/lib/python3.10/dist-packages (from odil) (1.13.1)\n",
            "Downloading odil-0.1.8-py2.py3-none-any.whl (40 kB)\n",
            "\u001b[?25l   \u001b[90m━━━━━━━━━━━━━━━━━━━━━━━━━━━━━━━━━━━━━━━━\u001b[0m \u001b[32m0.0/40.2 kB\u001b[0m \u001b[31m?\u001b[0m eta \u001b[36m-:--:--\u001b[0m\r\u001b[2K   \u001b[90m━━━━━━━━━━━━━━━━━━━━━━━━━━━━━━━━━━━━━━━━\u001b[0m \u001b[32m40.2/40.2 kB\u001b[0m \u001b[31m2.6 MB/s\u001b[0m eta \u001b[36m0:00:00\u001b[0m\n",
            "\u001b[?25hInstalling collected packages: odil\n",
            "Successfully installed odil-0.1.8\n"
          ]
        }
      ],
      "source": [
        "!pip install odil"
      ]
    },
    {
      "cell_type": "code",
      "source": [
        "!pwd"
      ],
      "metadata": {
        "colab": {
          "base_uri": "https://localhost:8080/"
        },
        "id": "uNpz7tSjpekI",
        "outputId": "63c1de94-150c-4690-b703-a66461a7bc9e"
      },
      "execution_count": 3,
      "outputs": [
        {
          "output_type": "stream",
          "name": "stdout",
          "text": [
            "/content\n"
          ]
        }
      ]
    },
    {
      "cell_type": "code",
      "source": [
        "!ls"
      ],
      "metadata": {
        "colab": {
          "base_uri": "https://localhost:8080/"
        },
        "id": "QfemAk9ZrAA2",
        "outputId": "1ab5dfb9-a08a-4a44-c7d9-1efa590a3d78"
      },
      "execution_count": 4,
      "outputs": [
        {
          "output_type": "stream",
          "name": "stdout",
          "text": [
            "odil  sample_data\n"
          ]
        }
      ]
    },
    {
      "cell_type": "code",
      "source": [
        "cd /content/odil/"
      ],
      "metadata": {
        "colab": {
          "base_uri": "https://localhost:8080/"
        },
        "id": "4u_YnU6arNHW",
        "outputId": "d72dbf58-e033-4527-9c49-a3c553bf72ba"
      },
      "execution_count": 5,
      "outputs": [
        {
          "output_type": "stream",
          "name": "stdout",
          "text": [
            "/content/odil\n"
          ]
        }
      ]
    },
    {
      "cell_type": "code",
      "source": [
        "!ls"
      ],
      "metadata": {
        "colab": {
          "base_uri": "https://localhost:8080/"
        },
        "id": "dj-SJzwTuk2y",
        "outputId": "936cd5d7-259a-4251-a1ed-480da4277a14"
      },
      "execution_count": 6,
      "outputs": [
        {
          "output_type": "stream",
          "name": "stdout",
          "text": [
            "examples  LICENSE  Makefile  pyproject.toml  README.md\tsetup.cfg  src\ttests\n"
          ]
        }
      ]
    },
    {
      "cell_type": "code",
      "source": [
        "import matplotlib\n",
        "import scipy\n",
        "import numpy"
      ],
      "metadata": {
        "id": "_wWzBVQVrfw0"
      },
      "execution_count": null,
      "outputs": []
    },
    {
      "cell_type": "code",
      "source": [
        "!pwd"
      ],
      "metadata": {
        "colab": {
          "base_uri": "https://localhost:8080/"
        },
        "id": "dZSMQQVUuWTm",
        "outputId": "a9d010df-2465-4eda-a0f0-9011d4152836"
      },
      "execution_count": 7,
      "outputs": [
        {
          "output_type": "stream",
          "name": "stdout",
          "text": [
            "/content/odil\n"
          ]
        }
      ]
    },
    {
      "cell_type": "code",
      "source": [
        "!ls\n"
      ],
      "metadata": {
        "colab": {
          "base_uri": "https://localhost:8080/"
        },
        "id": "80T1jNZqtC9Y",
        "outputId": "5a2e34c2-bf73-46c3-a2e5-45533c32f96b"
      },
      "execution_count": 8,
      "outputs": [
        {
          "output_type": "stream",
          "name": "stdout",
          "text": [
            "examples  LICENSE  Makefile  pyproject.toml  README.md\tsetup.cfg  src\ttests\n"
          ]
        }
      ]
    },
    {
      "cell_type": "code",
      "source": [
        "%cd /content/odil/tests/"
      ],
      "metadata": {
        "colab": {
          "base_uri": "https://localhost:8080/"
        },
        "id": "V14kIBpwxpKV",
        "outputId": "4c7cf49f-93e5-4d9e-8b1b-8019f4f4a20c"
      },
      "execution_count": 9,
      "outputs": [
        {
          "output_type": "stream",
          "name": "stdout",
          "text": [
            "/content/odil/tests\n"
          ]
        }
      ]
    },
    {
      "cell_type": "code",
      "source": [
        "!ls"
      ],
      "metadata": {
        "colab": {
          "base_uri": "https://localhost:8080/"
        },
        "id": "VuyPk-Qsx9iJ",
        "outputId": "0c38773d-0bae-4c34-90cb-f4da9962cbbc"
      },
      "execution_count": 10,
      "outputs": [
        {
          "output_type": "stream",
          "name": "stdout",
          "text": [
            "Makefile   test_domain.py  test_mg_interp.py\ttest_newton.py\n",
            "README.md  test_io.py\t   test_mg_restrict.py\ttest_optimize.py\n"
          ]
        }
      ]
    },
    {
      "cell_type": "code",
      "source": [
        "!apt-get update\n",
        "!apt-get install make\n",
        "!apt-get install build-essential"
      ],
      "metadata": {
        "colab": {
          "base_uri": "https://localhost:8080/"
        },
        "id": "BSFqwG6kybpu",
        "outputId": "452edb49-6c1e-4879-f9fe-a40039339af6"
      },
      "execution_count": 11,
      "outputs": [
        {
          "output_type": "stream",
          "name": "stdout",
          "text": [
            "\r0% [Working]\r            \rGet:1 https://cloud.r-project.org/bin/linux/ubuntu jammy-cran40/ InRelease [3,626 B]\n",
            "\r0% [Connecting to archive.ubuntu.com] [Connecting to security.ubuntu.com (185.125.190.83)] [1 InRele\r0% [Connecting to archive.ubuntu.com] [Connecting to security.ubuntu.com (185.125.190.83)] [Connecti\r                                                                                                    \rHit:2 https://developer.download.nvidia.com/compute/cuda/repos/ubuntu2204/x86_64  InRelease\n",
            "Hit:3 http://archive.ubuntu.com/ubuntu jammy InRelease\n",
            "Get:4 https://r2u.stat.illinois.edu/ubuntu jammy InRelease [6,555 B]\n",
            "Get:5 http://security.ubuntu.com/ubuntu jammy-security InRelease [129 kB]\n",
            "Get:6 http://archive.ubuntu.com/ubuntu jammy-updates InRelease [128 kB]\n",
            "Get:7 https://r2u.stat.illinois.edu/ubuntu jammy/main amd64 Packages [2,608 kB]\n",
            "Get:8 http://archive.ubuntu.com/ubuntu jammy-backports InRelease [127 kB]\n",
            "Hit:9 https://ppa.launchpadcontent.net/deadsnakes/ppa/ubuntu jammy InRelease\n",
            "Get:10 http://archive.ubuntu.com/ubuntu jammy-updates/main amd64 Packages [2,700 kB]\n",
            "Hit:11 https://ppa.launchpadcontent.net/graphics-drivers/ppa/ubuntu jammy InRelease\n",
            "Hit:12 https://ppa.launchpadcontent.net/ubuntugis/ppa/ubuntu jammy InRelease\n",
            "Get:13 https://r2u.stat.illinois.edu/ubuntu jammy/main all Packages [8,457 kB]\n",
            "Get:14 http://archive.ubuntu.com/ubuntu jammy-updates/universe amd64 Packages [1,452 kB]\n",
            "Get:15 http://security.ubuntu.com/ubuntu jammy-security/restricted amd64 Packages [3,275 kB]\n",
            "Get:16 http://security.ubuntu.com/ubuntu jammy-security/universe amd64 Packages [1,164 kB]\n",
            "Get:17 http://security.ubuntu.com/ubuntu jammy-security/main amd64 Packages [2,424 kB]\n",
            "Fetched 22.5 MB in 3s (6,547 kB/s)\n",
            "Reading package lists... Done\n",
            "W: Skipping acquire of configured file 'main/source/Sources' as repository 'https://r2u.stat.illinois.edu/ubuntu jammy InRelease' does not seem to provide it (sources.list entry misspelt?)\n",
            "Reading package lists... Done\n",
            "Building dependency tree... Done\n",
            "Reading state information... Done\n",
            "make is already the newest version (4.3-4.1build1).\n",
            "make set to manually installed.\n",
            "0 upgraded, 0 newly installed, 0 to remove and 53 not upgraded.\n",
            "Reading package lists... Done\n",
            "Building dependency tree... Done\n",
            "Reading state information... Done\n",
            "build-essential is already the newest version (12.9ubuntu3).\n",
            "0 upgraded, 0 newly installed, 0 to remove and 53 not upgraded.\n"
          ]
        }
      ]
    },
    {
      "cell_type": "code",
      "source": [
        "!pip uninstall tensorflow\n",
        "!pip install tensorflow"
      ],
      "metadata": {
        "colab": {
          "base_uri": "https://localhost:8080/"
        },
        "id": "0BSdZCVK1_sY",
        "outputId": "0189c230-e4e1-48b2-f395-906ab12abed6"
      },
      "execution_count": 12,
      "outputs": [
        {
          "output_type": "stream",
          "name": "stdout",
          "text": [
            "Found existing installation: tensorflow 2.17.0\n",
            "Uninstalling tensorflow-2.17.0:\n",
            "  Would remove:\n",
            "    /usr/local/bin/import_pb_to_tensorboard\n",
            "    /usr/local/bin/saved_model_cli\n",
            "    /usr/local/bin/tensorboard\n",
            "    /usr/local/bin/tf_upgrade_v2\n",
            "    /usr/local/bin/tflite_convert\n",
            "    /usr/local/bin/toco\n",
            "    /usr/local/bin/toco_from_protos\n",
            "    /usr/local/lib/python3.10/dist-packages/tensorflow-2.17.0.dist-info/*\n",
            "    /usr/local/lib/python3.10/dist-packages/tensorflow/*\n",
            "Proceed (Y/n)? Y\n",
            "  Successfully uninstalled tensorflow-2.17.0\n",
            "Collecting tensorflow\n",
            "  Downloading tensorflow-2.18.0-cp310-cp310-manylinux_2_17_x86_64.manylinux2014_x86_64.whl.metadata (4.1 kB)\n",
            "Requirement already satisfied: absl-py>=1.0.0 in /usr/local/lib/python3.10/dist-packages (from tensorflow) (1.4.0)\n",
            "Requirement already satisfied: astunparse>=1.6.0 in /usr/local/lib/python3.10/dist-packages (from tensorflow) (1.6.3)\n",
            "Requirement already satisfied: flatbuffers>=24.3.25 in /usr/local/lib/python3.10/dist-packages (from tensorflow) (24.3.25)\n",
            "Requirement already satisfied: gast!=0.5.0,!=0.5.1,!=0.5.2,>=0.2.1 in /usr/local/lib/python3.10/dist-packages (from tensorflow) (0.6.0)\n",
            "Requirement already satisfied: google-pasta>=0.1.1 in /usr/local/lib/python3.10/dist-packages (from tensorflow) (0.2.0)\n",
            "Requirement already satisfied: libclang>=13.0.0 in /usr/local/lib/python3.10/dist-packages (from tensorflow) (18.1.1)\n",
            "Requirement already satisfied: opt-einsum>=2.3.2 in /usr/local/lib/python3.10/dist-packages (from tensorflow) (3.4.0)\n",
            "Requirement already satisfied: packaging in /usr/local/lib/python3.10/dist-packages (from tensorflow) (24.1)\n",
            "Requirement already satisfied: protobuf!=4.21.0,!=4.21.1,!=4.21.2,!=4.21.3,!=4.21.4,!=4.21.5,<6.0.0dev,>=3.20.3 in /usr/local/lib/python3.10/dist-packages (from tensorflow) (3.20.3)\n",
            "Requirement already satisfied: requests<3,>=2.21.0 in /usr/local/lib/python3.10/dist-packages (from tensorflow) (2.32.3)\n",
            "Requirement already satisfied: setuptools in /usr/local/lib/python3.10/dist-packages (from tensorflow) (75.1.0)\n",
            "Requirement already satisfied: six>=1.12.0 in /usr/local/lib/python3.10/dist-packages (from tensorflow) (1.16.0)\n",
            "Requirement already satisfied: termcolor>=1.1.0 in /usr/local/lib/python3.10/dist-packages (from tensorflow) (2.5.0)\n",
            "Requirement already satisfied: typing-extensions>=3.6.6 in /usr/local/lib/python3.10/dist-packages (from tensorflow) (4.12.2)\n",
            "Requirement already satisfied: wrapt>=1.11.0 in /usr/local/lib/python3.10/dist-packages (from tensorflow) (1.16.0)\n",
            "Requirement already satisfied: grpcio<2.0,>=1.24.3 in /usr/local/lib/python3.10/dist-packages (from tensorflow) (1.64.1)\n",
            "Collecting tensorboard<2.19,>=2.18 (from tensorflow)\n",
            "  Downloading tensorboard-2.18.0-py3-none-any.whl.metadata (1.6 kB)\n",
            "Collecting keras>=3.5.0 (from tensorflow)\n",
            "  Downloading keras-3.6.0-py3-none-any.whl.metadata (5.8 kB)\n",
            "Requirement already satisfied: numpy<2.1.0,>=1.26.0 in /usr/local/lib/python3.10/dist-packages (from tensorflow) (1.26.4)\n",
            "Requirement already satisfied: h5py>=3.11.0 in /usr/local/lib/python3.10/dist-packages (from tensorflow) (3.12.1)\n",
            "Requirement already satisfied: ml-dtypes<0.5.0,>=0.4.0 in /usr/local/lib/python3.10/dist-packages (from tensorflow) (0.4.1)\n",
            "Requirement already satisfied: tensorflow-io-gcs-filesystem>=0.23.1 in /usr/local/lib/python3.10/dist-packages (from tensorflow) (0.37.1)\n",
            "Requirement already satisfied: wheel<1.0,>=0.23.0 in /usr/local/lib/python3.10/dist-packages (from astunparse>=1.6.0->tensorflow) (0.44.0)\n",
            "Requirement already satisfied: rich in /usr/local/lib/python3.10/dist-packages (from keras>=3.5.0->tensorflow) (13.9.4)\n",
            "Requirement already satisfied: namex in /usr/local/lib/python3.10/dist-packages (from keras>=3.5.0->tensorflow) (0.0.8)\n",
            "Requirement already satisfied: optree in /usr/local/lib/python3.10/dist-packages (from keras>=3.5.0->tensorflow) (0.13.0)\n",
            "Requirement already satisfied: charset-normalizer<4,>=2 in /usr/local/lib/python3.10/dist-packages (from requests<3,>=2.21.0->tensorflow) (3.4.0)\n",
            "Requirement already satisfied: idna<4,>=2.5 in /usr/local/lib/python3.10/dist-packages (from requests<3,>=2.21.0->tensorflow) (3.10)\n",
            "Requirement already satisfied: urllib3<3,>=1.21.1 in /usr/local/lib/python3.10/dist-packages (from requests<3,>=2.21.0->tensorflow) (2.2.3)\n",
            "Requirement already satisfied: certifi>=2017.4.17 in /usr/local/lib/python3.10/dist-packages (from requests<3,>=2.21.0->tensorflow) (2024.8.30)\n",
            "Requirement already satisfied: markdown>=2.6.8 in /usr/local/lib/python3.10/dist-packages (from tensorboard<2.19,>=2.18->tensorflow) (3.7)\n",
            "Requirement already satisfied: tensorboard-data-server<0.8.0,>=0.7.0 in /usr/local/lib/python3.10/dist-packages (from tensorboard<2.19,>=2.18->tensorflow) (0.7.2)\n",
            "Requirement already satisfied: werkzeug>=1.0.1 in /usr/local/lib/python3.10/dist-packages (from tensorboard<2.19,>=2.18->tensorflow) (3.1.2)\n",
            "Requirement already satisfied: MarkupSafe>=2.1.1 in /usr/local/lib/python3.10/dist-packages (from werkzeug>=1.0.1->tensorboard<2.19,>=2.18->tensorflow) (3.0.2)\n",
            "Requirement already satisfied: markdown-it-py>=2.2.0 in /usr/local/lib/python3.10/dist-packages (from rich->keras>=3.5.0->tensorflow) (3.0.0)\n",
            "Requirement already satisfied: pygments<3.0.0,>=2.13.0 in /usr/local/lib/python3.10/dist-packages (from rich->keras>=3.5.0->tensorflow) (2.18.0)\n",
            "Requirement already satisfied: mdurl~=0.1 in /usr/local/lib/python3.10/dist-packages (from markdown-it-py>=2.2.0->rich->keras>=3.5.0->tensorflow) (0.1.2)\n",
            "Downloading tensorflow-2.18.0-cp310-cp310-manylinux_2_17_x86_64.manylinux2014_x86_64.whl (615.3 MB)\n",
            "\u001b[2K   \u001b[90m━━━━━━━━━━━━━━━━━━━━━━━━━━━━━━━━━━━━━━━━\u001b[0m \u001b[32m615.3/615.3 MB\u001b[0m \u001b[31m2.7 MB/s\u001b[0m eta \u001b[36m0:00:00\u001b[0m\n",
            "\u001b[?25hDownloading keras-3.6.0-py3-none-any.whl (1.2 MB)\n",
            "\u001b[2K   \u001b[90m━━━━━━━━━━━━━━━━━━━━━━━━━━━━━━━━━━━━━━━━\u001b[0m \u001b[32m1.2/1.2 MB\u001b[0m \u001b[31m52.5 MB/s\u001b[0m eta \u001b[36m0:00:00\u001b[0m\n",
            "\u001b[?25hDownloading tensorboard-2.18.0-py3-none-any.whl (5.5 MB)\n",
            "\u001b[2K   \u001b[90m━━━━━━━━━━━━━━━━━━━━━━━━━━━━━━━━━━━━━━━━\u001b[0m \u001b[32m5.5/5.5 MB\u001b[0m \u001b[31m88.1 MB/s\u001b[0m eta \u001b[36m0:00:00\u001b[0m\n",
            "\u001b[?25hInstalling collected packages: tensorboard, keras, tensorflow\n",
            "  Attempting uninstall: tensorboard\n",
            "    Found existing installation: tensorboard 2.17.0\n",
            "    Uninstalling tensorboard-2.17.0:\n",
            "      Successfully uninstalled tensorboard-2.17.0\n",
            "  Attempting uninstall: keras\n",
            "    Found existing installation: keras 3.4.1\n",
            "    Uninstalling keras-3.4.1:\n",
            "      Successfully uninstalled keras-3.4.1\n",
            "\u001b[31mERROR: pip's dependency resolver does not currently take into account all the packages that are installed. This behaviour is the source of the following dependency conflicts.\n",
            "tf-keras 2.17.0 requires tensorflow<2.18,>=2.17, but you have tensorflow 2.18.0 which is incompatible.\u001b[0m\u001b[31m\n",
            "\u001b[0mSuccessfully installed keras-3.6.0 tensorboard-2.18.0 tensorflow-2.18.0\n"
          ]
        }
      ]
    },
    {
      "cell_type": "code",
      "source": [
        "import matplotlib\n",
        "import scipy\n",
        "import numpy\n"
      ],
      "metadata": {
        "id": "eW0l-1n5yw2c"
      },
      "execution_count": 13,
      "outputs": []
    },
    {
      "cell_type": "code",
      "source": [
        "!pip install --upgrade odil"
      ],
      "metadata": {
        "colab": {
          "base_uri": "https://localhost:8080/"
        },
        "id": "aEFm-3852xEu",
        "outputId": "6b6f1d7b-8d26-4d07-fa90-78c401c9a1b1"
      },
      "execution_count": 14,
      "outputs": [
        {
          "output_type": "stream",
          "name": "stdout",
          "text": [
            "Requirement already satisfied: odil in /usr/local/lib/python3.10/dist-packages (0.1.8)\n",
            "Requirement already satisfied: numpy in /usr/local/lib/python3.10/dist-packages (from odil) (1.26.4)\n",
            "Requirement already satisfied: psutil in /usr/local/lib/python3.10/dist-packages (from odil) (5.9.5)\n",
            "Requirement already satisfied: scipy in /usr/local/lib/python3.10/dist-packages (from odil) (1.13.1)\n"
          ]
        }
      ]
    },
    {
      "cell_type": "code",
      "source": [
        "import tensorflow as tf\n",
        "tf.config.set_visible_devices([], 'GPU')"
      ],
      "metadata": {
        "id": "6XOcAgaT26h9"
      },
      "execution_count": 15,
      "outputs": []
    },
    {
      "cell_type": "code",
      "source": [
        "pwd"
      ],
      "metadata": {
        "colab": {
          "base_uri": "https://localhost:8080/",
          "height": 35
        },
        "id": "ALvEDGBM3QDt",
        "outputId": "4914b25c-47d0-4a7b-f028-d55f67796f5a"
      },
      "execution_count": 16,
      "outputs": [
        {
          "output_type": "execute_result",
          "data": {
            "text/plain": [
              "'/content/odil/tests'"
            ],
            "application/vnd.google.colaboratory.intrinsic+json": {
              "type": "string"
            }
          },
          "metadata": {},
          "execution_count": 16
        }
      ]
    },
    {
      "cell_type": "code",
      "source": [
        "%cd /content/odil/tests/"
      ],
      "metadata": {
        "colab": {
          "base_uri": "https://localhost:8080/"
        },
        "id": "APD3Xj0K3US1",
        "outputId": "04079922-99ba-4240-a93c-d23143e930af"
      },
      "execution_count": 17,
      "outputs": [
        {
          "output_type": "stream",
          "name": "stdout",
          "text": [
            "/content/odil/tests\n"
          ]
        }
      ]
    },
    {
      "cell_type": "code",
      "source": [
        "!make"
      ],
      "metadata": {
        "colab": {
          "base_uri": "https://localhost:8080/"
        },
        "id": "uvylXLHty-4V",
        "outputId": "827051cb-4da8-4f78-909f-548593e91488"
      },
      "execution_count": 18,
      "outputs": [
        {
          "output_type": "stream",
          "name": "stdout",
          "text": [
            "ODIL_BACKEND=tf ODIL_DTYPE=float64 python3 test_domain.py \n",
            "WARNING: All log messages before absl::InitializeLog() is called are written to STDERR\n",
            "E0000 00:00:1731390305.090005    2559 cuda_dnn.cc:8310] Unable to register cuDNN factory: Attempting to register factory for plugin cuDNN when one has already been registered\n",
            "E0000 00:00:1731390305.096083    2559 cuda_blas.cc:1418] Unable to register cuBLAS factory: Attempting to register factory for plugin cuBLAS when one has already been registered\n",
            "case=  pack dim=1: PASS\n",
            "case=  pack dim=2: PASS\n",
            "case=arrays dim=1: PASS\n",
            "case=arrays dim=2: PASS\n",
            "ODIL_BACKEND=tf ODIL_DTYPE=float64 python3 test_mg_interp.py \n",
            "WARNING: All log messages before absl::InitializeLog() is called are written to STDERR\n",
            "E0000 00:00:1731390308.804231    2586 cuda_dnn.cc:8310] Unable to register cuDNN factory: Attempting to register factory for plugin cuDNN when one has already been registered\n",
            "E0000 00:00:1731390308.810193    2586 cuda_blas.cc:1418] Unable to register cuBLAS factory: Attempting to register factory for plugin cuBLAS when one has already been registered\n",
            "method= conv, ndim=1, loc=   n: 0.000000e+00 PASS\n",
            "method= conv, ndim=1, loc=   c: 1.110223e-16 PASS\n",
            "method= conv, ndim=2, loc=  nn: 2.220446e-16 PASS\n",
            "method= conv, ndim=2, loc=  cn: 4.440892e-16 PASS\n",
            "method= conv, ndim=2, loc=  nc: 4.440892e-16 PASS\n",
            "method= conv, ndim=2, loc=  cc: 4.440892e-16 PASS\n",
            "method= conv, ndim=3, loc= ncc: 8.881784e-16 PASS\n",
            "method= conv, ndim=3, loc= cnn: 8.881784e-16 PASS\n",
            "method= conv, ndim=3, loc= nnn: 4.440892e-16 PASS\n",
            "method= conv, ndim=3, loc= ccc: 8.881784e-16 PASS\n",
            "method=stack, ndim=1, loc=   n: 0.000000e+00 PASS\n",
            "method=stack, ndim=1, loc=   c: 1.110223e-16 PASS\n",
            "method=stack, ndim=2, loc=  nn: 2.220446e-16 PASS\n",
            "method=stack, ndim=2, loc=  cn: 4.440892e-16 PASS\n",
            "method=stack, ndim=2, loc=  nc: 4.440892e-16 PASS\n",
            "method=stack, ndim=2, loc=  cc: 4.440892e-16 PASS\n",
            "method=stack, ndim=3, loc= ncc: 8.881784e-16 PASS\n",
            "method=stack, ndim=3, loc= cnn: 8.881784e-16 PASS\n",
            "method=stack, ndim=3, loc= nnn: 4.440892e-16 PASS\n",
            "method=stack, ndim=3, loc= ccc: 8.881784e-16 PASS\n",
            "method=stack, ndim=4, loc=cccc: 2.664535e-15 PASS\n",
            "method=stack, ndim=4, loc=nccc: 1.776357e-15 PASS\n",
            "method=stack, ndim=4, loc=nnnn: 1.776357e-15 PASS\n",
            "method=stack, ndim=4, loc=cnnn: 1.776357e-15 PASS\n",
            "ODIL_BACKEND=tf ODIL_DTYPE=float64 python3 test_mg_restrict.py \n",
            "WARNING: All log messages before absl::InitializeLog() is called are written to STDERR\n",
            "E0000 00:00:1731390313.347594    2610 cuda_dnn.cc:8310] Unable to register cuDNN factory: Attempting to register factory for plugin cuDNN when one has already been registered\n",
            "E0000 00:00:1731390313.357647    2610 cuda_blas.cc:1418] Unable to register cuBLAS factory: Attempting to register factory for plugin cuBLAS when one has already been registered\n",
            "method= conv, ndim=1, loc=   n: 1.776357e-15 PASS\n",
            "method= conv, ndim=1, loc=   c: 0.000000e+00 PASS\n",
            "method= conv, ndim=2, loc=  cc: 2.220446e-16 PASS\n",
            "method= conv, ndim=2, loc=  cn: 1.776357e-15 PASS\n",
            "method= conv, ndim=2, loc=  nn: 3.552714e-15 PASS\n",
            "method= conv, ndim=2, loc=  nc: 2.220446e-16 PASS\n",
            "method= conv, ndim=3, loc= ncc: 1.776357e-15 PASS\n",
            "method= conv, ndim=3, loc= cnn: 3.552714e-15 PASS\n",
            "method= conv, ndim=3, loc= ccc: 8.881784e-16 PASS\n",
            "method= conv, ndim=3, loc= nnn: 7.105427e-15 PASS\n",
            "ODIL_BACKEND=tf ODIL_DTYPE=float64 python3 test_optimize.py \n",
            "WARNING: All log messages before absl::InitializeLog() is called are written to STDERR\n",
            "E0000 00:00:1731390317.507579    2640 cuda_dnn.cc:8310] Unable to register cuDNN factory: Attempting to register factory for plugin cuDNN when one has already been registered\n",
            "E0000 00:00:1731390317.513559    2640 cuda_blas.cc:1418] Unable to register cuBLAS factory: Attempting to register factory for plugin cuBLAS when one has already been registered\n",
            "opt=lbfgsb PASS 2.9749611e-16\n",
            "WARNING: All log messages before absl::InitializeLog() is called are written to STDERR\n",
            "I0000 00:00:1731390330.071572    2640 service.cc:148] XLA service 0x5afe75f6a970 initialized for platform Host (this does not guarantee that XLA will be used). Devices:\n",
            "I0000 00:00:1731390330.071617    2640 service.cc:156]   StreamExecutor device (0): Host, Default Version\n",
            "I0000 00:00:1731390330.344430    2640 device_compiler.h:188] Compiled cluster using XLA!  This line is logged at most once for the lifetime of the process.\n",
            "opt= adamn PASS 0.0030879551\n",
            "ODIL_BACKEND=tf ODIL_DTYPE=float32 python3 test_optimize.py \n",
            "WARNING: All log messages before absl::InitializeLog() is called are written to STDERR\n",
            "E0000 00:00:1731390335.611544    2743 cuda_dnn.cc:8310] Unable to register cuDNN factory: Attempting to register factory for plugin cuDNN when one has already been registered\n",
            "E0000 00:00:1731390335.617652    2743 cuda_blas.cc:1418] Unable to register cuBLAS factory: Attempting to register factory for plugin cuBLAS when one has already been registered\n",
            "opt=lbfgsb PASS 1.4863501e-07\n",
            "WARNING: All log messages before absl::InitializeLog() is called are written to STDERR\n",
            "I0000 00:00:1731390347.456462    2743 service.cc:148] XLA service 0x5c23bd7314b0 initialized for platform Host (this does not guarantee that XLA will be used). Devices:\n",
            "I0000 00:00:1731390347.456521    2743 service.cc:156]   StreamExecutor device (0): Host, Default Version\n",
            "I0000 00:00:1731390347.691270    2743 device_compiler.h:188] Compiled cluster using XLA!  This line is logged at most once for the lifetime of the process.\n",
            "opt= adamn PASS 0.0032320207\n",
            "ODIL_BACKEND=tf ODIL_DTYPE=float64 python3 test_newton.py \n",
            "WARNING: All log messages before absl::InitializeLog() is called are written to STDERR\n",
            "E0000 00:00:1731390353.419000    2841 cuda_dnn.cc:8310] Unable to register cuDNN factory: Attempting to register factory for plugin cuDNN when one has already been registered\n",
            "E0000 00:00:1731390353.429108    2841 cuda_blas.cc:1418] Unable to register cuBLAS factory: Attempting to register factory for plugin cuBLAS when one has already been registered\n",
            "ufx  3.065704e-16 PASS\n",
            "uc   3.451824e-16 PASS\n",
            "a    0.000000e+00 PASS\n",
            "net_out 4.805687e-14 PASS\n",
            "python3 -m unittest ./test_io.py\n",
            ".\n",
            "----------------------------------------------------------------------\n",
            "Ran 1 test in 0.035s\n",
            "\n",
            "OK\n"
          ]
        }
      ]
    },
    {
      "cell_type": "code",
      "source": [
        "%cd /content/odil/examples/basic/"
      ],
      "metadata": {
        "colab": {
          "base_uri": "https://localhost:8080/"
        },
        "id": "MRyeSKzl0TTV",
        "outputId": "18690741-7c55-48ca-e237-7e1d40cccc42"
      },
      "execution_count": 19,
      "outputs": [
        {
          "output_type": "stream",
          "name": "stdout",
          "text": [
            "/content/odil/examples/basic\n"
          ]
        }
      ]
    },
    {
      "cell_type": "code",
      "source": [
        "!ls"
      ],
      "metadata": {
        "colab": {
          "base_uri": "https://localhost:8080/"
        },
        "id": "7a2W2yFm-Zcs",
        "outputId": "423f70fe-63c4-4c16-fe6c-1c04c5e785b8"
      },
      "execution_count": 20,
      "outputs": [
        {
          "output_type": "stream",
          "name": "stdout",
          "text": [
            "fields.ipynb  fields.py  README.md  README.py\n"
          ]
        }
      ]
    },
    {
      "cell_type": "code",
      "source": [
        "!python fields.py"
      ],
      "metadata": {
        "colab": {
          "base_uri": "https://localhost:8080/"
        },
        "id": "PPOetC8K-laU",
        "outputId": "93bcf9a6-e12d-4c4a-a315-883e77cacf48"
      },
      "execution_count": 21,
      "outputs": [
        {
          "output_type": "stream",
          "name": "stdout",
          "text": [
            "WARNING: All log messages before absl::InitializeLog() is called are written to STDERR\n",
            "E0000 00:00:1731390448.456629    3253 cuda_dnn.cc:8310] Unable to register cuDNN factory: Attempting to register factory for plugin cuDNN when one has already been registered\n",
            "E0000 00:00:1731390448.467416    3253 cuda_blas.cc:1418] Unable to register cuBLAS factory: Attempting to register factory for plugin cuBLAS when one has already been registered\n",
            "fields.py\n",
            "Running AdamNative optimizer\n",
            "\n",
            "epoch=00000\n",
            "residual: uc:0.53855, un:0.55434, ufx:0.54367, ufy:0.54932\n",
            "memory: 679 MiB\n",
            "walltime: 3.153 s\n",
            "walltime+callback: 3.154 s\n",
            "grid_00000.png\n",
            "WARNING: All log messages before absl::InitializeLog() is called are written to STDERR\n",
            "I0000 00:00:1731390455.945910    3253 service.cc:148] XLA service 0x5c444cfcefa0 initialized for platform Host (this does not guarantee that XLA will be used). Devices:\n",
            "I0000 00:00:1731390455.945974    3253 service.cc:156]   StreamExecutor device (0): Host, Default Version\n",
            "I0000 00:00:1731390456.172908    3253 device_compiler.h:188] Compiled cluster using XLA!  This line is logged at most once for the lifetime of the process.\n",
            "\n",
            "epoch=00050\n",
            "residual: uc:0.034254, un:0.052562, ufx:0.03799, ufy:0.047799\n",
            "memory: 739 MiB\n",
            "walltime: 4.750 s\n",
            "walltime+callback: 5.017 s\n",
            "walltime/epoch: 95.008 ms\n",
            "throughput: 0.000M cells/s\n",
            "\n",
            "epoch=00100\n",
            "residual: uc:0.0029653, un:0.0035613, ufx:0.0031611, ufy:0.0032508\n",
            "memory: 739 MiB\n",
            "walltime: 4.921 s\n",
            "walltime+callback: 5.200 s\n",
            "walltime/epoch: 3.418 ms\n",
            "throughput: 0.009M cells/s\n",
            "grid_00001.png\n"
          ]
        }
      ]
    },
    {
      "cell_type": "code",
      "source": [
        "%cd /content/odil/examples/heat/"
      ],
      "metadata": {
        "colab": {
          "base_uri": "https://localhost:8080/"
        },
        "id": "ut_8Ahhz_F9L",
        "outputId": "badef147-3493-4899-f4af-861c235f9a10"
      },
      "execution_count": 22,
      "outputs": [
        {
          "output_type": "stream",
          "name": "stdout",
          "text": [
            "/content/odil/examples/heat\n"
          ]
        }
      ]
    },
    {
      "cell_type": "code",
      "source": [
        "!python heat.py"
      ],
      "metadata": {
        "colab": {
          "base_uri": "https://localhost:8080/"
        },
        "id": "w-717hBC_QpM",
        "outputId": "5d66c45e-6158-4319-aaae-d65e2fcbc605"
      },
      "execution_count": null,
      "outputs": [
        {
          "output_type": "stream",
          "name": "stdout",
          "text": [
            "WARNING: All log messages before absl::InitializeLog() is called are written to STDERR\n",
            "E0000 00:00:1731390468.522929    3369 cuda_dnn.cc:8310] Unable to register cuDNN factory: Attempting to register factory for plugin cuDNN when one has already been registered\n",
            "E0000 00:00:1731390468.530645    3369 cuda_blas.cc:1418] Unable to register cuBLAS factory: Attempting to register factory for plugin cuBLAS when one has already been registered\n",
            "WARNING: All log messages before absl::InitializeLog() is called are written to STDERR\n",
            "I0000 00:00:1731390477.471063    3369 service.cc:148] XLA service 0x59f349654770 initialized for platform Host (this does not guarantee that XLA will be used). Devices:\n",
            "I0000 00:00:1731390477.471130    3369 service.cc:156]   StreamExecutor device (0): Host, Default Version\n",
            "I0000 00:00:1731390477.607565    3369 device_compiler.h:188] Compiled cluster using XLA!  This line is logged at most once for the lifetime of the process.\n"
          ]
        }
      ]
    },
    {
      "cell_type": "code",
      "source": [
        "!python ./plot_train.py"
      ],
      "metadata": {
        "id": "cv1fq4O4EJ-7"
      },
      "execution_count": null,
      "outputs": []
    },
    {
      "cell_type": "code",
      "source": [
        "! ls -l out_ref/"
      ],
      "metadata": {
        "colab": {
          "base_uri": "https://localhost:8080/"
        },
        "id": "T_i2l36STtuV",
        "outputId": "21077a7d-8636-4530-ec7d-529cb3aab86f"
      },
      "execution_count": null,
      "outputs": [
        {
          "output_type": "stream",
          "name": "stdout",
          "text": [
            "total 7140\n",
            "-rw-r--r-- 1 root root   1877 Nov 10 18:16 args.json\n",
            "-rw-r--r-- 1 root root 262329 Nov 10 18:16 checkpoint_000000.pickle\n",
            "-rw-r--r-- 1 root root 262329 Nov 10 18:18 checkpoint_000050.pickle\n",
            "-rw-r--r-- 1 root root 526339 Nov 10 18:16 data_00000.pickle\n",
            "-rw-r--r-- 1 root root 526339 Nov 10 18:16 data_00001.pickle\n",
            "-rw-r--r-- 1 root root 526339 Nov 10 18:16 data_00002.pickle\n",
            "-rw-r--r-- 1 root root 526339 Nov 10 18:17 data_00003.pickle\n",
            "-rw-r--r-- 1 root root 526339 Nov 10 18:17 data_00004.pickle\n",
            "-rw-r--r-- 1 root root 526339 Nov 10 18:17 data_00005.pickle\n",
            "-rw-r--r-- 1 root root 526339 Nov 10 18:17 data_00006.pickle\n",
            "-rw-r--r-- 1 root root 526339 Nov 10 18:18 data_00007.pickle\n",
            "-rw-r--r-- 1 root root 526339 Nov 10 18:18 data_00008.pickle\n",
            "-rw-r--r-- 1 root root 526339 Nov 10 18:18 data_00009.pickle\n",
            "-rw-r--r-- 1 root root 526339 Nov 10 18:18 data_00010.pickle\n",
            "-rw-r--r-- 1 root root      0 Nov 10 18:18 done\n",
            "-rw-r--r-- 1 root root      4 Nov 10 18:16 imposed.csv\n",
            "-rw-r--r-- 1 root root  25128 Nov 10 18:16 k_00000.png\n",
            "-rw-r--r-- 1 root root  24886 Nov 10 18:16 k_00001.png\n",
            "-rw-r--r-- 1 root root  25393 Nov 10 18:16 k_00002.png\n",
            "-rw-r--r-- 1 root root  24955 Nov 10 18:17 k_00003.png\n",
            "-rw-r--r-- 1 root root  25871 Nov 10 18:17 k_00004.png\n",
            "-rw-r--r-- 1 root root  25468 Nov 10 18:17 k_00005.png\n",
            "-rw-r--r-- 1 root root  26030 Nov 10 18:17 k_00006.png\n",
            "-rw-r--r-- 1 root root  25656 Nov 10 18:18 k_00007.png\n",
            "-rw-r--r-- 1 root root  25664 Nov 10 18:18 k_00008.png\n",
            "-rw-r--r-- 1 root root  25270 Nov 10 18:18 k_00009.png\n",
            "-rw-r--r-- 1 root root  25833 Nov 10 18:18 k_00010.png\n",
            "-rw-r--r-- 1 root root    886 Nov 10 18:16 train.csv\n",
            "-rw-r--r-- 1 root root   2305 Nov 10 18:18 train.log\n",
            "-rw-r--r-- 1 root root  27188 Nov 10 18:16 u_00000.png\n",
            "-rw-r--r-- 1 root root  56820 Nov 10 18:16 u_00001.png\n",
            "-rw-r--r-- 1 root root  57483 Nov 10 18:16 u_00002.png\n",
            "-rw-r--r-- 1 root root  57344 Nov 10 18:17 u_00003.png\n",
            "-rw-r--r-- 1 root root  57801 Nov 10 18:17 u_00004.png\n",
            "-rw-r--r-- 1 root root  57594 Nov 10 18:17 u_00005.png\n",
            "-rw-r--r-- 1 root root  57821 Nov 10 18:17 u_00006.png\n",
            "-rw-r--r-- 1 root root  57703 Nov 10 18:18 u_00007.png\n",
            "-rw-r--r-- 1 root root  57632 Nov 10 18:18 u_00008.png\n",
            "-rw-r--r-- 1 root root  57421 Nov 10 18:18 u_00009.png\n",
            "-rw-r--r-- 1 root root  57700 Nov 10 18:18 u_00010.png\n"
          ]
        }
      ]
    },
    {
      "cell_type": "code",
      "source": [
        "! ./run_all"
      ],
      "metadata": {
        "colab": {
          "base_uri": "https://localhost:8080/"
        },
        "id": "PaCCDdLOCrZ1",
        "outputId": "5afe829d-aa90-400e-e16d-7afe79b23420"
      },
      "execution_count": null,
      "outputs": [
        {
          "output_type": "stream",
          "name": "stdout",
          "text": [
            "Reference solution 'ref/ref.pickle' not found.\n",
            "Forward problem, compute reference solution\n",
            "skip existing 'out_ref/done'\n",
            "'out_ref/train.csv' -> 'ref/train.csv'\n",
            "'out_ref/train.log' -> 'ref/train.log'\n",
            "'out_ref/args.json' -> 'ref/args.json'\n",
            "'out_ref/checkpoint_000050.pickle' -> 'ref/ref.pickle'\n",
            "Inverse problem with Newton\n",
            "./heat.py --outdir 'out_odiln' --Nt 64 --Nx 64 --ref_path ref/ref.pickle --infer_k 1 --imposed stripe --optimizer newton --multigrid 0 --kwreg 1 --report_every 5 --history_every 1 --plot_every 10 \n",
            "Inverse problem with gradient-based\n",
            "./heat.py --outdir 'out_odil' --Nt 64 --Nx 64 --ref_path ref/ref.pickle --infer_k 1 --imposed stripe --every_factor 2 \n",
            "Inverse problem with PINN\n",
            "./heat.py --outdir 'out_pinn' --Nt 64 --Nx 64 --ref_path ref/ref.pickle --infer_k 1 --imposed stripe --solver pinn --arch_u 32 32 32 32 --Nci 4096 --Ncb 128 --every_factor 5 \n",
            "trap: SIGHUP: bad trap\n",
            "WARNING: All log messages before absl::InitializeLog() is called are written to STDERR\n",
            "E0000 00:00:1731264623.695221   16028 cuda_dnn.cc:8310] Unable to register cuDNN factory: Attempting to register factory for plugin cuDNN when one has already been registered\n",
            "E0000 00:00:1731264623.705913   16028 cuda_blas.cc:1418] Unable to register cuBLAS factory: Attempting to register factory for plugin cuBLAS when one has already been registered\n",
            "WARNING: All log messages before absl::InitializeLog() is called are written to STDERR\n",
            "E0000 00:00:1731264623.781992   16029 cuda_dnn.cc:8310] Unable to register cuDNN factory: Attempting to register factory for plugin cuDNN when one has already been registered\n",
            "E0000 00:00:1731264623.805292   16029 cuda_blas.cc:1418] Unable to register cuBLAS factory: Attempting to register factory for plugin cuBLAS when one has already been registered\n",
            "WARNING: All log messages before absl::InitializeLog() is called are written to STDERR\n",
            "E0000 00:00:1731264624.108037   16027 cuda_dnn.cc:8310] Unable to register cuDNN factory: Attempting to register factory for plugin cuDNN when one has already been registered\n",
            "E0000 00:00:1731264624.118215   16027 cuda_blas.cc:1418] Unable to register cuBLAS factory: Attempting to register factory for plugin cuBLAS when one has already been registered\n",
            "I0000 00:00:1731264630.120709   16029 gpu_device.cc:2022] Created device /job:localhost/replica:0/task:0/device:GPU:0 with 13949 MB memory:  -> device: 0, name: Tesla T4, pci bus id: 0000:00:04.0, compute capability: 7.5\n",
            "WARNING: All log messages before absl::InitializeLog() is called are written to STDERR\n",
            "I0000 00:00:1731264639.573768   16029 service.cc:148] XLA service 0x55d210e79170 initialized for platform CUDA (this does not guarantee that XLA will be used). Devices:\n",
            "I0000 00:00:1731264639.573818   16029 service.cc:156]   StreamExecutor device (0): Tesla T4, Compute Capability 7.5\n",
            "I0000 00:00:1731264640.905684   16029 cuda_dnn.cc:529] Loaded cuDNN version 90501\n",
            "WARNING: All log messages before absl::InitializeLog() is called are written to STDERR\n",
            "I0000 00:00:1731264640.931591   16027 service.cc:148] XLA service 0x5c40e7ea9d00 initialized for platform Host (this does not guarantee that XLA will be used). Devices:\n",
            "I0000 00:00:1731264640.932098   16027 service.cc:156]   StreamExecutor device (0): Host, Default Version\n",
            "I0000 00:00:1731264642.280318   16027 device_compiler.h:188] Compiled cluster using XLA!  This line is logged at most once for the lifetime of the process.\n",
            "WARNING: All log messages before absl::InitializeLog() is called are written to STDERR\n",
            "I0000 00:00:1731264644.731387   16028 service.cc:148] XLA service 0x5b53830cd480 initialized for platform Host (this does not guarantee that XLA will be used). Devices:\n",
            "I0000 00:00:1731264644.731439   16028 service.cc:156]   StreamExecutor device (0): Host, Default Version\n",
            "I0000 00:00:1731264650.396011   16029 device_compiler.h:188] Compiled cluster using XLA!  This line is logged at most once for the lifetime of the process.\n",
            "I0000 00:00:1731264652.877884   16028 device_compiler.h:188] Compiled cluster using XLA!  This line is logged at most once for the lifetime of the process.\n",
            "./run: 85: c: not found\n",
            "./run: 85: c: not found\n",
            "./run: 85: c: not found\n"
          ]
        }
      ]
    },
    {
      "cell_type": "code",
      "source": [
        "!make -f /content/odil/Makefile"
      ],
      "metadata": {
        "colab": {
          "base_uri": "https://localhost:8080/"
        },
        "id": "qvCh29MAvaDw",
        "outputId": "df0d5caa-89ad-4c22-9967-84080ea83b5b"
      },
      "execution_count": null,
      "outputs": [
        {
          "output_type": "stream",
          "name": "stdout",
          "text": [
            "make: Nothing to be done for 'default'.\n"
          ]
        }
      ]
    },
    {
      "cell_type": "code",
      "source": [
        "!make test_domain_tf"
      ],
      "metadata": {
        "colab": {
          "base_uri": "https://localhost:8080/"
        },
        "id": "FE8XBpeswWpR",
        "outputId": "9e3af82f-a9d0-4b22-83e6-8fa077ffdf55"
      },
      "execution_count": null,
      "outputs": [
        {
          "output_type": "stream",
          "name": "stdout",
          "text": [
            "make: *** No rule to make target 'test_domain_tf'.  Stop.\n"
          ]
        }
      ]
    },
    {
      "cell_type": "code",
      "source": [
        "%cd /content/odil/src/odil/"
      ],
      "metadata": {
        "colab": {
          "base_uri": "https://localhost:8080/"
        },
        "id": "wle7yQ447TTj",
        "outputId": "df681756-ddf0-4ff0-bd52-a0523321644c"
      },
      "execution_count": null,
      "outputs": [
        {
          "output_type": "stream",
          "name": "stdout",
          "text": [
            "/content/odil/src/odil\n"
          ]
        }
      ]
    },
    {
      "cell_type": "code",
      "source": [
        "!python plot.py"
      ],
      "metadata": {
        "id": "QtcXp02-7wGl"
      },
      "execution_count": null,
      "outputs": []
    },
    {
      "cell_type": "code",
      "source": [
        "!python plotutil.py"
      ],
      "metadata": {
        "id": "j9TZj6qh8AN2"
      },
      "execution_count": null,
      "outputs": []
    },
    {
      "cell_type": "code",
      "source": [
        "!python runtime.py"
      ],
      "metadata": {
        "colab": {
          "base_uri": "https://localhost:8080/"
        },
        "id": "e8JqXvw28Kwy",
        "outputId": "bda91f30-32c3-47a3-b041-d66b0023eb44"
      },
      "execution_count": null,
      "outputs": [
        {
          "output_type": "stream",
          "name": "stdout",
          "text": [
            "Traceback (most recent call last):\n",
            "  File \"/content/odil/src/odil/runtime.py\", line 5, in <module>\n",
            "    from .backend import ModNumpy, ModTensorflow\n",
            "ImportError: attempted relative import with no known parent package\n"
          ]
        }
      ]
    }
  ]
}